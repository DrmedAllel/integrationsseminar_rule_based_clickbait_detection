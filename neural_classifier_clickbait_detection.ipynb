{
 "cells": [
  {
   "cell_type": "code",
   "execution_count": 14,
   "metadata": {},
   "outputs": [
    {
     "name": "stdout",
     "output_type": "stream",
     "text": [
      "                                            headline  clickbait\n",
      "0                                 Should I Get Bings       True\n",
      "1      Which TV Female Friend Group Do You Belong In       True\n",
      "2  The New \"Star Wars: The Force Awakens\" Trailer...       True\n",
      "3  This Vine Of New York On \"Celebrity Big Brothe...       True\n",
      "4  A Couple Did A Stunning Photo Shoot With Their...       True\n"
     ]
    }
   ],
   "source": [
    "import pandas as pd\n",
    "\n",
    "# Replace 'your_clickbait_dataset.csv' with the path to your dataset\n",
    "dataset = pd.read_csv('clickbait_data.csv')\n",
    "\n",
    "# Turn the clickbait column into a boolean column\n",
    "dataset['clickbait'] = dataset['clickbait'].astype(bool)\n",
    "\n",
    "# Display information about the dataset\n",
    "print(dataset.head())"
   ]
  },
  {
   "cell_type": "code",
   "execution_count": 15,
   "metadata": {},
   "outputs": [
    {
     "name": "stdout",
     "output_type": "stream",
     "text": [
      "                                            headline  clickbait  F1  F2  F3  \\\n",
      "0                                 Should I Get Bings       True   0   0   0   \n",
      "1      Which TV Female Friend Group Do You Belong In       True   0   0   0   \n",
      "2  The New \"Star Wars: The Force Awakens\" Trailer...       True   0   0   0   \n",
      "3  This Vine Of New York On \"Celebrity Big Brothe...       True   0   0   0   \n",
      "4  A Couple Did A Stunning Photo Shoot With Their...       True   0   0   0   \n",
      "\n",
      "   F4  F5  F6  F7  F8  F9  \n",
      "0   0   0   0   0   4   0  \n",
      "1   0   0   0   0   9   0  \n",
      "2   2   1   0   0  14   0  \n",
      "3   2   0   0   0  12   0  \n",
      "4   0   0   0   0  18   0  \n"
     ]
    }
   ],
   "source": [
    "def calculate_features(headline):\n",
    "    features = {}\n",
    "    # F1: Check whether the first word of a news headline is a number.\n",
    "    features['F1'] = 1 if headline.split()[0].isdigit() else 0\n",
    "    # F2: Calculate the number of exclamation marks in a news title.\n",
    "    features['F2'] = headline.count('!')\n",
    "    # F3: Calculate the number of brackets in news titles.\n",
    "    features['F3'] = headline.count('(') + headline.count(')')\n",
    "    # F4: Calculate the number of quotation marks in news titles.\n",
    "    features['F4'] = headline.count('\"')\n",
    "    # F5: Check for colons in news titles.\n",
    "    features['F5'] = 1 if ':' in headline else 0\n",
    "    # F6: Check for ellipsis marks in news titles.\n",
    "    features['F6'] = 1 if '...' in headline else 0\n",
    "    # F7: Check for numeric symbols in news titles.\n",
    "    features['F7'] = 1 if any(char.isdigit() for char in headline) else 0\n",
    "    # F8: Word count of the title.\n",
    "    features['F8'] = len(headline.split())\n",
    "    # F9: Number of question marks in the title.\n",
    "    features['F9'] = headline.count('?')\n",
    "    return features\n",
    "\n",
    "# Apply the function to each headline in the dataset\n",
    "features_df = dataset['headline'].apply(calculate_features).apply(pd.Series)\n",
    "\n",
    "# Concatenate the original dataset with the new features\n",
    "dataset = pd.concat([dataset, features_df], axis=1)\n",
    "\n",
    "print(dataset.head())"
   ]
  },
  {
   "cell_type": "code",
   "execution_count": 16,
   "metadata": {},
   "outputs": [
    {
     "data": {
      "image/png": "[encoded data removed]",
      "text/plain": [
       "<Figure size 1200x600 with 1 Axes>"
      ]
     },
     "metadata": {},
     "output_type": "display_data"
    },
    {
     "name": "stdout",
     "output_type": "stream",
     "text": [
      "                                            headline  clickbait  F1  F4  F7  \\\n",
      "0                                 Should I Get Bings       True   0   0   0   \n",
      "1      Which TV Female Friend Group Do You Belong In       True   0   0   0   \n",
      "2  The New \"Star Wars: The Force Awakens\" Trailer...       True   0   2   0   \n",
      "3  This Vine Of New York On \"Celebrity Big Brothe...       True   0   2   0   \n",
      "4  A Couple Did A Stunning Photo Shoot With Their...       True   0   0   0   \n",
      "\n",
      "   F8  \n",
      "0   4  \n",
      "1   9  \n",
      "2  14  \n",
      "3  12  \n",
      "4  18  \n"
     ]
    }
   ],
   "source": [
    "from sklearn.feature_selection import f_classif\n",
    "import numpy as np\n",
    "import matplotlib.pyplot as plt\n",
    "\n",
    "# Extract the feature columns\n",
    "feature_columns = ['F1', 'F2', 'F3', 'F4', 'F5', 'F6', 'F7', 'F8', 'F9']\n",
    "X = dataset[feature_columns]\n",
    "y = dataset['clickbait']\n",
    "\n",
    "# Perform ANOVA\n",
    "F_values, p_values = f_classif(X, y)\n",
    "\n",
    "# Create a DataFrame to display the F-values\n",
    "anova_results = pd.DataFrame({'Feature': feature_columns, 'F_value': F_values})\n",
    "anova_results = anova_results.sort_values(by='F_value', ascending=False)\n",
    "\n",
    "# Plot the F-values\n",
    "plt.figure(figsize=(12, 6))\n",
    "plt.bar(anova_results['Feature'], anova_results['F_value'], color='skyblue')\n",
    "plt.xlabel('Features')\n",
    "plt.ylabel('F-value')\n",
    "plt.title('ANOVA F-value for Each Feature')\n",
    "plt.show()\n",
    "\n",
    "# Identify features with the five lowest F-values\n",
    "features_to_remove = anova_results.nsmallest(5, 'F_value')['Feature'].tolist()\n",
    "\n",
    "# Remove the identified features from the dataset\n",
    "dataset = dataset.drop(columns=features_to_remove)\n",
    "\n",
    "# Display the updated dataset with important features\n",
    "print(dataset.head())"
   ]
  },
  {
   "cell_type": "code",
   "execution_count": 17,
   "metadata": {},
   "outputs": [
    {
     "name": "stdout",
     "output_type": "stream",
     "text": [
      "Epoch 1/5\n",
      "\u001b[1m800/800\u001b[0m \u001b[32m━━━━━━━━━━━━━━━━━━━━\u001b[0m\u001b[37m\u001b[0m \u001b[1m39s\u001b[0m 47ms/step - accuracy: 0.9063 - loss: 0.1982 - val_accuracy: 0.9731 - val_loss: 0.0816\n",
      "Epoch 2/5\n",
      "\u001b[1m800/800\u001b[0m \u001b[32m━━━━━━━━━━━━━━━━━━━━\u001b[0m\u001b[37m\u001b[0m \u001b[1m64s\u001b[0m 80ms/step - accuracy: 0.9934 - loss: 0.0188 - val_accuracy: 0.9800 - val_loss: 0.0567\n",
      "Epoch 3/5\n",
      "\u001b[1m800/800\u001b[0m \u001b[32m━━━━━━━━━━━━━━━━━━━━\u001b[0m\u001b[37m\u001b[0m \u001b[1m40s\u001b[0m 27ms/step - accuracy: 0.9993 - loss: 0.0034 - val_accuracy: 0.9595 - val_loss: 0.1792\n",
      "Epoch 4/5\n",
      "\u001b[1m800/800\u001b[0m \u001b[32m━━━━━━━━━━━━━━━━━━━━\u001b[0m\u001b[37m\u001b[0m \u001b[1m20s\u001b[0m 25ms/step - accuracy: 0.9998 - loss: 8.6221e-04 - val_accuracy: 0.9347 - val_loss: 0.3336\n",
      "Epoch 5/5\n",
      "\u001b[1m800/800\u001b[0m \u001b[32m━━━━━━━━━━━━━━━━━━━━\u001b[0m\u001b[37m\u001b[0m \u001b[1m20s\u001b[0m 25ms/step - accuracy: 0.9994 - loss: 0.0012 - val_accuracy: 0.9655 - val_loss: 0.1922\n",
      "\u001b[1m1000/1000\u001b[0m \u001b[32m━━━━━━━━━━━━━━━━━━━━\u001b[0m\u001b[37m\u001b[0m \u001b[1m10s\u001b[0m 10ms/step - accuracy: 0.9992 - loss: 0.0039\n",
      "Loss: 0.038499075919389725, Accuracy: 0.993093729019165\n"
     ]
    }
   ],
   "source": [
    "from tensorflow.keras.layers import Embedding, Conv1D, LSTM, Dense, Input, Concatenate, GlobalMaxPooling1D\n",
    "from tensorflow.keras.models import Model\n",
    "from tensorflow.keras.preprocessing.text import Tokenizer\n",
    "from tensorflow.keras.preprocessing.sequence import pad_sequences\n",
    "\n",
    "# Parameters\n",
    "max_words = 10000\n",
    "max_len = 100\n",
    "embedding_dim = 100\n",
    "\n",
    "# Tokenizer erstellen und auf Daten fitten\n",
    "tokenizer = Tokenizer(num_words=max_words)\n",
    "tokenizer.fit_on_texts(dataset['headline'])\n",
    "\n",
    "# Daten vorbereiten\n",
    "sequences = tokenizer.texts_to_sequences(dataset['headline'])\n",
    "padded = pad_sequences(sequences, maxlen=max_len)\n",
    "\n",
    "# Modell definieren\n",
    "input_layer = Input(shape=(max_len,))\n",
    "embedding_layer = Embedding(input_dim=max_words, output_dim=embedding_dim)(input_layer)\n",
    "conv_layer = Conv1D(filters=128, kernel_size=5, activation='relu')(embedding_layer)\n",
    "pooling_layer = GlobalMaxPooling1D()(conv_layer)\n",
    "lstm_layer = LSTM(128)(embedding_layer)\n",
    "concatenated_layer = Concatenate()([pooling_layer, lstm_layer])\n",
    "dense_layer = Dense(64, activation='relu')(concatenated_layer)\n",
    "output_layer = Dense(1, activation='sigmoid')(dense_layer)\n",
    "\n",
    "model = Model(inputs=input_layer, outputs=output_layer)\n",
    "model.compile(optimizer='adam', loss='binary_crossentropy', metrics=['accuracy'])\n",
    "\n",
    "# Modell trainieren\n",
    "model.fit(padded, dataset['clickbait'], epochs=5, batch_size=32, validation_split=0.2)\n",
    "\n",
    "# Modell evaluieren\n",
    "loss, accuracy = model.evaluate(padded, dataset['clickbait'])\n",
    "print(f'Loss: {loss}, Accuracy: {accuracy}')"
   ]
  }
 ],
 "metadata": {
  "kernelspec": {
   "display_name": "Python 3",
   "language": "python",
   "name": "python3"
  },
  "language_info": {
   "codemirror_mode": {
    "name": "ipython",
    "version": 3
   },
   "file_extension": ".py",
   "mimetype": "text/x-python",
   "name": "python",
   "nbconvert_exporter": "python",
   "pygments_lexer": "ipython3",
   "version": "3.11.5"
  }
 },
 "nbformat": 4,
 "nbformat_minor": 2
}
